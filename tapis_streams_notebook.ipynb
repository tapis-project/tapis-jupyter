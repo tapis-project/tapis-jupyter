{
 "cells": [
  {
   "cell_type": "markdown",
   "metadata": {},
   "source": [
    "## Tapis PEARC20 Demo"
   ]
  },
  {
   "cell_type": "markdown",
   "metadata": {},
   "source": [
    "In this notebook, we use Tapis to store and analyze streaming data generated from code simulating a sensor. We introduce a number of Tapis services and concepts along the way."
   ]
  },
  {
   "cell_type": "markdown",
   "metadata": {},
   "source": [
    "![Alt text](images/tapis_demo_overview.png \"Tapis Demo Overview\")"
   ]
  },
  {
   "cell_type": "markdown",
   "metadata": {},
   "source": [
    "### Tapis Python SDK, Tenants and Authentication\n",
    "\n",
    "In this notebook, we will use the official Tapis Python SDK for all of our interactions with the services. The Python SDK provides Python-native methods and objects for making HTTP requests and parsing HTTP responses to and from the Tapis API. \n",
    "\n",
    "In order to do just about anything with Tapis, we will need to authenticate. Tapis makes heavy use of the notion of \"tenants\" in order to provide isolation for different projects. By setting the base_url variable, you indicate to the Tapis SDK which tenant you wish to interact with.\n",
    "\n",
    "For the demo, we will be using the \"dev\" tenant which has a base URL of \"https://dev.tapis.io\". This tenant is an internal tenant the Tapis core development team can use to try out services. The demo will make use of two test accounts in the dev tenan.\n",
    "\n",
    "The \"TACC tenant\", with base URL \"https://tacc.tapis.io\", allows individuals to authenticate using any valid TACC account. For other tenants, the authentication rules could be different. "
   ]
  },
  {
   "cell_type": "markdown",
   "metadata": {},
   "source": [
    "Authentication in the \"dev\" and \"TACC\" tenants use OAuth2 (again, this could be different in other tenants), but the Tapis Python SDK simplifies some of the complexity inherent in OAuth2 by providing some convenience functions for common use cases. For example, we are able to generate an access token using just our username and password via the convenience function “get_tokens()”. We do this below:"
   ]
  },
  {
   "cell_type": "code",
   "execution_count": null,
   "metadata": {},
   "outputs": [],
   "source": [
    "#Set TACC account credentials for authenticating to the Tapis TACC Tenant \n",
    "import getpass\n",
    "permitted_username = getpass.getpass(prompt='Username: ', stream=None)\n",
    "permitted_user_password = getpass.getpass(prompt='Password: ', stream=None)\n",
    "\n",
    "#Set Tapis Tenant and Base URL\n",
    "tenant=\"dev\"\n",
    "base_url = 'https://dev.develop.tapis.io'\n",
    "\n",
    "#Load Python SDK\n",
    "from tapipy.tapis import Tapis\n",
    "\n",
    "#Create python Tapis client for user\n",
    "permitted_client = Tapis(base_url= base_url, \n",
    "                         username=permitted_username,\n",
    "                         password=permitted_user_password, \n",
    "                         account_type='user', \n",
    "                         tenant_id=tenant,\n",
    "                        ) \n",
    "\n",
    "#Generate an Access Token that will be used for all API calls\n",
    "permitted_client.get_tokens()"
   ]
  },
  {
   "cell_type": "markdown",
   "metadata": {},
   "source": [
    "In Tapis, access tokens (and refresh tokens) are simply JSON Web Tokens (JWTs). The access_token Python object created and managed by the Python SDK has attributes on it that include the \"raw\" JWT string as well as claims associated with the JWT. Services use the claims to determine what actions a user is authorized to take. In particular, the \"sub\" (subject) claim uniquely identifies a user inside Tapis. "
   ]
  },
  {
   "cell_type": "code",
   "execution_count": null,
   "metadata": {},
   "outputs": [],
   "source": [
    "#Show the access token object generated\n",
    "permitted_client.access_token"
   ]
  },
  {
   "cell_type": "markdown",
   "metadata": {},
   "source": [
    "Note also the ttl (time-to-live) claim; Tapis tokens have a finite lifetime, typically a few hours, configurable by tenant. After the token expires, we will need to get a new token in order to continue interacting with Tapis. The Python SDK has convenience methods for managing tokens and even automatically refreshing a token."
   ]
  },
  {
   "cell_type": "markdown",
   "metadata": {},
   "source": [
    "## Streams API"
   ]
  },
  {
   "cell_type": "markdown",
   "metadata": {},
   "source": [
    "![Alt text](images/streams-api.png \"a title\")"
   ]
  },
  {
   "cell_type": "code",
   "execution_count": null,
   "metadata": {},
   "outputs": [],
   "source": [
    "#Setup Streams Variables that are used in the rest of the notebook\n",
    "import datetime\n",
    "storage_id = \"tapis-demo\"\n",
    "project_id ='wq_demo_tapis_streams_proj'+ str(datetime.datetime.today().isoformat())\n",
    "site_id = 'wq_demo_site'\n",
    "instrument_id = instrument_id = 'Ohio_River_Robert_C_Byrd_Locks'+ str(datetime.datetime.today().isoformat()).replace(':','_').replace('.','-')"
   ]
  },
  {
   "cell_type": "markdown",
   "metadata": {},
   "source": [
    "### Project and Metadata Setup\n",
    "Projects are defined at a top level in the hierarchy of Streams resources. A user registers a project by providing metadata information such as the principal Investigator, project URL, funding resource, etc. A list of authorized users can be added to various project roles to have a controlled access over the project resources. When a project is first registered, a collection is created in the back-end MongoDB. User permissions to access this collection are then set up in the security kernel. Every request to access the project resource or documents within (i.e sites, instruments, variables) goes through a security kernel check and only the authorized user requests are allowed to be processed."
   ]
  },
  {
   "cell_type": "code",
   "execution_count": null,
   "metadata": {},
   "outputs": [],
   "source": [
    "## Create Streams Project\n",
    "result, debug = permitted_client.streams.create_project(project_name=project_id,\n",
    "                                                        description='project for early adopters demo',\n",
    "                                                        owner='testuser2', pi='ajamthe', \n",
    "                                                        funding_resource='tapis', \n",
    "                                                        project_url='test.tacc.utexas.edu',\n",
    "                                                        active=True,_tapis_debug=True)\n",
    "print(result)"
   ]
  },
  {
   "cell_type": "markdown",
   "metadata": {},
   "source": [
    "![Alt text](images/stream-mongo.png \"a title\")"
   ]
  },
  {
   "cell_type": "markdown",
   "metadata": {},
   "source": [
    "#### Create Site\n",
    "A site is a geographical location that may hold one or more instruments. Sites are next in the streams hierarchy and they inherit permissions from the projects. Project owners can create sites by providing the geographical information such as latitude, longitude and elevation of the site or GeoJSON encoded spatial information. This spatial information is useful when searching sites or data based on location. In the back-end database a site is represented as a JSON document within the project collection. Site permissions are inherited from the project. \n"
   ]
  },
  {
   "cell_type": "code",
   "execution_count": null,
   "metadata": {},
   "outputs": [],
   "source": [
    "## Create a Streams Site\n",
    "result, debug = permitted_client.streams.create_site(project_id=project_id,\n",
    "                                                     request_body=[{\n",
    "                                                     \"site_name\":site_id, \n",
    "                                                     \"site_id\":site_id,\n",
    "                                                     \"latitude\":50, \n",
    "                                                     \"longitude\":10, \n",
    "                                                     \"elevation\":2,\n",
    "                                                     \"description\":'test_site'\n",
    "                                                    }], _tapis_debug=True)\n",
    "print(result)"
   ]
  },
  {
   "cell_type": "code",
   "execution_count": null,
   "metadata": {},
   "outputs": [],
   "source": [
    "#Edit Site\n",
    "result, debug = permitted_client.streams.update_site(project_id=project_id,\n",
    "                                             site_name=site_id, \n",
    "                                             site_id=site_id,\n",
    "                                             latitude=90, \n",
    "                                             longitude = 90, \n",
    "                                             elevation=2,\n",
    "                                             description='edited_site', _tapis_debug=True)\n",
    "print(result)"
   ]
  },
  {
   "cell_type": "code",
   "execution_count": null,
   "metadata": {},
   "outputs": [],
   "source": [
    "#Create sites in bulk\n",
    "result, debug = permitted_client.streams.create_site(project_id=project_id,request_body=[{\n",
    "                                                     \"site_name\":site_id+\"_2\", \n",
    "                                                     \"site_id\":site_id+\"_2\",\n",
    "                                                     \"latitude\":50, \n",
    "                                                     \"longitude\":10, \n",
    "                                                     \"elevation\":2,\n",
    "                                                     \"description\":'test_site2'\n",
    "                                                    },{\n",
    "                                                     \"site_name\":site_id+'_3', \n",
    "                                                     \"site_id\":site_id+'_3',\n",
    "                                                     \"latitude\":50, \n",
    "                                                     \"longitude\":10, \n",
    "                                                     \"elevation\":2,\n",
    "                                                     \"description\":'test_site3'\n",
    "                                                    }\n",
    "                                                    ], _tapis_debug=True)\n",
    "print(result)"
   ]
  },
  {
   "cell_type": "markdown",
   "metadata": {},
   "source": [
    "#### Create Instrument\n",
    "Instruments are physical entities that may have one or more embedded sensors to sense various parameters such as temperature, relative humidity, specific conductivity, etc. These sensors referred to as variables in Streams API generate measurements, which are stored in the influxDB along with a ISO8601 timestamp. Instruments are associated with specific sites and projects. Information about the instruments such as site and project ids, name and description of the instrument, etc. are stored in the mongoDB sites JSON document. "
   ]
  },
  {
   "cell_type": "code",
   "execution_count": null,
   "metadata": {},
   "outputs": [],
   "source": [
    "## Create Instruments\n",
    "result, debug = permitted_client.streams.create_instrument(project_id=project_id,site_id=site_id,\n",
    "                                                           request_body=[{\n",
    "                                                           \"inst_name\":instrument_id,\n",
    "                                                           \"inst_description\":\"demo instrument\",\n",
    "                                                           \"inst_id\":instrument_id\n",
    "                                                           }], _tapis_debug=True)\n",
    "print(result)"
   ]
  },
  {
   "cell_type": "code",
   "execution_count": null,
   "metadata": {},
   "outputs": [],
   "source": [
    "#Edit Instrument\n",
    "result, debug = permitted_client.streams.update_instrument(project_id=project_id,\n",
    "                                                           topic_category_id ='2',\n",
    "                                                           site_id=site_id,\n",
    "                                                           inst_name=instrument_id,\n",
    "                                                           inst_description='edited instrument',\n",
    "                                                           inst_id=instrument_id, _tapis_debug=True)\n",
    "print(result)"
   ]
  },
  {
   "cell_type": "code",
   "execution_count": null,
   "metadata": {},
   "outputs": [],
   "source": [
    "## Create Instruments\n",
    "result, debug = permitted_client.streams.create_instrument(project_id=project_id,site_id=site_id,\n",
    "                                                           request_body=[{\n",
    "                                                           \"inst_name\":instrument_id+'_2',\n",
    "                                                           \"inst_description\":\"demo instrument\",\n",
    "                                                           \"inst_id\":instrument_id+'_2'\n",
    "                                                           },{\n",
    "                                                           \"inst_name\":instrument_id+'_3',\n",
    "                                                           \"inst_description\":\"demo instrument\",\n",
    "                                                           \"inst_id\":instrument_id+'_3'\n",
    "                                                           }], _tapis_debug=True)\n",
    "print(result)"
   ]
  },
  {
   "cell_type": "markdown",
   "metadata": {},
   "source": [
    "#### Create Variables\n",
    "Variables are associated with specific instruments. When a variable is created the users provide information such as the name of variable, properties measured, units of measurements, etc. For example, a variable for temperature sensor when created can store measurements in degree Celsius or Fahrenheit."
   ]
  },
  {
   "cell_type": "code",
   "execution_count": null,
   "metadata": {},
   "outputs": [],
   "source": [
    "#Create variables in bulk\n",
    "result, debug = permitted_client.streams.create_variable(project_id=project_id,\n",
    "                                                         site_id=site_id,\n",
    "                                                         inst_id=instrument_id,\n",
    "                                                         request_body=[\n",
    "                                                         {\n",
    "                                                         \"topic_category_id\" :\"2\",\n",
    "                                                         \"var_name\":\"temperature\", \n",
    "                                                         \"shortname\":\"temp\",\"var_id\":\"temp\"\n",
    "                                                         },\n",
    "                                                         {\n",
    "                                                          \"topic_category_id\" :\"2\",\n",
    "                                                         \"var_name\":\"ph_level\", \n",
    "                                                         \"shortname\":\"ph\",\"var_id\":\"ph\"\n",
    "                                                         },{\n",
    "                                                          \"topic_category_id\" :\"2\",\n",
    "                                                         \"var_name\":\"battery\", \n",
    "                                                         \"shortname\":\"batv\",\"var_id\":\"batv\"\n",
    "                                                         },{\n",
    "                                                         \"topic_category_id\" :\"2\",\n",
    "                                                         \"var_name\":\"turbidity\", \n",
    "                                                         \"shortname\":\"turb\",\"var_id\":\"turb\"\n",
    "                                                         },{\n",
    "                                                         \"topic_category_id\" :\"2\",\n",
    "                                                         \"var_name\":\"specific_conductivity\", \n",
    "                                                         \"shortname\":\"spc\",\"var_id\":\"spc\"\n",
    "                                                         }\n",
    "                                                         ],_tapis_debug=True)\n",
    "print(result)"
   ]
  },
  {
   "cell_type": "markdown",
   "metadata": {},
   "source": [
    "### Write Measurements\n",
    "Measurements are actual values from the variables, which are stored in the time series database influxDB. Project owners or users can download these measurements by providing a time window of measurement creation and retrieve the data in the CSV or JSON format. This data  can be processed in real time with the help of the Channels API."
   ]
  },
  {
   "cell_type": "code",
   "execution_count": null,
   "metadata": {
    "scrolled": true
   },
   "outputs": [],
   "source": [
    "#Write Measurements - this is our sensor simulator\n",
    "from datetime import datetime\n",
    "import random\n",
    "from random import randint\n",
    "variables = []\n",
    "#generate 10 sensor records\n",
    "for i in range(0, 10):\n",
    "    datetime_now = datetime.now().isoformat()\n",
    "    variables.append({\"temp\": randint(85, 89),\n",
    "                        \"spc\": randint(240, 300),\n",
    "                        \"turb\": randint(10, 19),\n",
    "                        \"ph\": randint(1, 10),\n",
    "                        \"batv\": round(random.uniform(10, 13), 2),\n",
    "                        \"datetime\":datetime_now\n",
    "                        })\n",
    "#write observations to measurements endpoint for our instrument\n",
    "result = permitted_client.streams.create_measurement(inst_id=instrument_id, vars=variables)\n",
    "print(result)"
   ]
  },
  {
   "cell_type": "markdown",
   "metadata": {},
   "source": [
    "### Download Measurements\n",
    "Download the measurements we just created from our instrument."
   ]
  },
  {
   "cell_type": "code",
   "execution_count": null,
   "metadata": {},
   "outputs": [],
   "source": [
    "#Download measurments as CSV\n",
    "result = permitted_client.streams.list_measurements(inst_id=instrument_id,\n",
    "                                                    project_id=project_id, \n",
    "                                                    site_id=site_id,\n",
    "                                                    start_date='2021-01-01T00:00:00Z',\n",
    "                                                    end_date='2025-12-30T22:19:25Z',\n",
    "                                                    format='csv')\n",
    "result"
   ]
  },
  {
   "cell_type": "code",
   "execution_count": null,
   "metadata": {},
   "outputs": [],
   "source": [
    "#Read Measurements to Data Frame\n",
    "import pandas as pd\n",
    "from io import StringIO\n",
    "input = StringIO(str(result,'utf-8'))\n",
    "df = pd.read_csv(input)\n",
    "df['datetime']=pd.to_datetime(df['time'])\n",
    "df.set_index('datetime',inplace=True)\n",
    "df.pop('time')\n",
    "df"
   ]
  },
  {
   "cell_type": "code",
   "execution_count": null,
   "metadata": {},
   "outputs": [],
   "source": [
    "# Plot Measurements in the DataFrame\n",
    "import matplotlib.pyplot as plt\n",
    "import matplotlib.dates as md\n",
    "%matplotlib inline\n",
    "xfmt = md.DateFormatter('%H:%M:%S')\n",
    "df.plot(lw=1, colormap='jet', marker='.', \n",
    "        markersize=12, title='Timeseries Stream Output', rot=90).xaxis.set_major_formatter(xfmt)\n",
    "plt.tight_layout()\n",
    "plt.legend(loc='best')\n",
    "plt.savefig('test.png')"
   ]
  },
  {
   "cell_type": "markdown",
   "metadata": {},
   "source": [
    "## Transfer data to a storage system"
   ]
  },
  {
   "cell_type": "markdown",
   "metadata": {},
   "source": [
    "We can take the measurment data we have just written and send it as a csv or json file to a Tapis storage system"
   ]
  },
  {
   "cell_type": "code",
   "execution_count": null,
   "metadata": {},
   "outputs": [],
   "source": [
    "result = permitted_client.streams.transfer_data(filename=\"mytestfile.csv\",\n",
    "                                       system_id= storage_id,\n",
    "                                       path=\"/test-directory-e2e/\",\n",
    "                                       inst_id=instrument_id,\n",
    "                                       data_format=\"csv\",\n",
    "                                       start_date=\"2021-01-01T00:00:00Z\",\n",
    "                                       end_date=\"2025-12-30T22:19:25Z\"\n",
    "                                      )\n",
    "print(result)"
   ]
  },
  {
   "cell_type": "code",
   "execution_count": null,
   "metadata": {},
   "outputs": [],
   "source": [
    "#View files on the storage system we just transfered our instrument measurements too\n",
    "permitted_client.files.listFiles(systemId=storage_id,path=\"/\")"
   ]
  },
  {
   "cell_type": "code",
   "execution_count": null,
   "metadata": {},
   "outputs": [],
   "source": [
    "permitted_client.base_url = \"http://192.168.56.1:5001\""
   ]
  },
  {
   "cell_type": "markdown",
   "metadata": {},
   "source": [
    "## Archive or backup a Project"
   ]
  },
  {
   "cell_type": "markdown",
   "metadata": {},
   "source": [
    "We can create backups of a streams projects data and metadata and send it a Tapis storage system. Currenlty archives happen on a one-time basis but in future releases a cron-like schedule within streams will be made available."
   ]
  },
  {
   "cell_type": "code",
   "execution_count": null,
   "metadata": {},
   "outputs": [],
   "source": [
    "#Create a Project Archive\n",
    "result = permitted_client.streams.archive_project(project_id=project_id,\n",
    "                                                  archive_type='system',\n",
    "                                                  owner='sean',\n",
    "                                                  settings={\n",
    "                                                    \"system_id\":storage_id,\n",
    "                                                    \"path\":\"/test-directory-e2e/\",\n",
    "                                                    \"archive_format\":\"zip\",\n",
    "                                                    \"data_format\":\"csv\",\n",
    "                                                    \"frequency\": \"one-time\"\n",
    "                                                  })\n",
    "print(result)"
   ]
  },
  {
   "cell_type": "code",
   "execution_count": null,
   "metadata": {},
   "outputs": [],
   "source": [
    "#View files on the storage system we just archived too\n",
    "permitted_client.files.listFiles(systemId=storage_id,path=\"/\")"
   ]
  },
  {
   "cell_type": "code",
   "execution_count": null,
   "metadata": {},
   "outputs": [],
   "source": [
    "#list project archives\n",
    "result = permitted_client.streams.list_archives(project_id=project_id)\n",
    "print(result)"
   ]
  },
  {
   "cell_type": "code",
   "execution_count": null,
   "metadata": {},
   "outputs": [],
   "source": []
  }
 ],
 "metadata": {
  "kernelspec": {
   "display_name": "Python 3 (ipykernel)",
   "language": "python",
   "name": "python3"
  },
  "language_info": {
   "codemirror_mode": {
    "name": "ipython",
    "version": 3
   },
   "file_extension": ".py",
   "mimetype": "text/x-python",
   "name": "python",
   "nbconvert_exporter": "python",
   "pygments_lexer": "ipython3",
   "version": "3.8.11"
  }
 },
 "nbformat": 4,
 "nbformat_minor": 2
}
